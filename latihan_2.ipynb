{
  "nbformat": 4,
  "nbformat_minor": 0,
  "metadata": {
    "colab": {
      "provenance": [],
      "authorship_tag": "ABX9TyN9giCqS1u+2iPtHUCKGQmk",
      "include_colab_link": true
    },
    "kernelspec": {
      "name": "python3",
      "display_name": "Python 3"
    },
    "language_info": {
      "name": "python"
    }
  },
  "cells": [
    {
      "cell_type": "markdown",
      "metadata": {
        "id": "view-in-github",
        "colab_type": "text"
      },
      "source": [
        "<a href=\"https://colab.research.google.com/github/syarifahannisa1215/pemograman-berorientasi-objek-1/blob/main/latihan_2.ipynb\" target=\"_parent\"><img src=\"https://colab.research.google.com/assets/colab-badge.svg\" alt=\"Open In Colab\"/></a>"
      ]
    },
    {
      "cell_type": "code",
      "execution_count": 1,
      "metadata": {
        "colab": {
          "base_uri": "https://localhost:8080/"
        },
        "id": "NhsZ11FUDUxx",
        "outputId": "4e381051-cbb7-4d0c-c818-9e814b3a4937"
      },
      "outputs": [
        {
          "output_type": "stream",
          "name": "stdout",
          "text": [
            "Masukkan sebuah bilangan:10\n",
            "10 adalah bilangan genap\n"
          ]
        }
      ],
      "source": [
        "##\n",
        "# Program untuk menentukan apakah sebuah bilangan yang diinput ganjil atau genap\n",
        "#\n",
        "\n",
        "# Membaca bilangan yang dimasukkan user\n",
        "bil = int(input(\"Masukkan sebuah bilangan:\"))\n",
        "\n",
        "# Proses untuk menentukan bilangan tersebut ganjil atau genap\n",
        "# Menggunakan operator modulus\n",
        "if bil % 2 == 1:\n",
        "  print(bil, \"adalah bilangan ganjil\")\n",
        "else:\n",
        "  print(bil, \"adalah bilangan genap\")"
      ]
    },
    {
      "cell_type": "code",
      "source": [
        "##\n",
        "# Program untuk menentukan apakah huruf tersebut vokal atau konsonan\n",
        "# Dalam Ejaan Bahasa Inggris\n",
        "\n",
        "# Membaca huruf yang dimasukkan user\n",
        "hur= input(\"Masukkan sebuah huruf dari kumpulan abjad:\")\n",
        "\n",
        "#Proses menentukan huruf dan menampilkan hasilnya\n",
        "if hur ==\"a\" or hur == \"e\" or \\\n",
        "   hur ==\"i\" or hur == \"o\" or \\\n",
        "   hur ==\"u\":\n",
        "  print(\"Ini adalah vokal.\")\n",
        "elif hur ==\"y\":\n",
        "  print(\"Kadang vokal...kadang konsonan\")\n",
        "else:\n",
        "  print(\"Ini adalah konsonan.\")"
      ],
      "metadata": {
        "colab": {
          "base_uri": "https://localhost:8080/"
        },
        "id": "A6W27HZvDszB",
        "outputId": "7b513636-ac1c-496c-c015-4850f3a9cb6f"
      },
      "execution_count": 2,
      "outputs": [
        {
          "output_type": "stream",
          "name": "stdout",
          "text": [
            "Masukkan sebuah huruf dari kumpulan abjad:a\n",
            "Ini adalah vokal.\n"
          ]
        }
      ]
    },
    {
      "cell_type": "code",
      "source": [
        "##\n",
        "# Menampilkan nama ukuran geometri berdasarkan jumlah sisi yang diinput\n",
        "#\n",
        "\n",
        "# Membaca jumlah sisi yang diinput oleh user\n",
        "sisi = int(input(\"Masukkan jumlah sisinya:\"))\n",
        "\n",
        "# Menampilkan nama ukuran geometri tersebut\n",
        "nama = \"\"\n",
        "if sisi == 3:\n",
        "  nama = \"triangle\"\n",
        "elif sisi == 4:\n",
        "  nama = \"quadrilateral\"\n",
        "elif sisi == 5:\n",
        "  nama = \"pentagon\"\n",
        "elif sisi == 6:\n",
        "  nama = \"hexagon\"\n",
        "elif sisi == 7:\n",
        "  nama = \"heptagon\"\n",
        "elif sisi == 8:\n",
        "  nama = \"ocatagon\"\n",
        "elif sisi == 9:\n",
        "  nama = \"nonagon\"\n",
        "elif sisi == 10:\n",
        "  nama = \"decagon\"\n",
        "\n",
        "# Menampilkan pesan kesalahan atau nama dari ruang geometri\n",
        "if nama == \"\":\n",
        "  print(\"Jumlah sisi yang diinput tidak ada dalam database\")\n",
        "else:\n",
        "  print(\"Ini adalah\", nama)\n"
      ],
      "metadata": {
        "colab": {
          "base_uri": "https://localhost:8080/"
        },
        "id": "Qo8Y640QDxcp",
        "outputId": "147e5c9a-1a42-47ed-f70d-e2fe1199e892"
      },
      "execution_count": 3,
      "outputs": [
        {
          "output_type": "stream",
          "name": "stdout",
          "text": [
            "Masukkan jumlah sisinya:7\n",
            "Ini adalah heptagon\n"
          ]
        }
      ]
    },
    {
      "cell_type": "code",
      "source": [
        "##\n",
        "# Menentukan dan menampilkan nama musim berdasarkan tanggal\n",
        "#\n",
        "\n",
        "# Membaca tanggal yang diinput oleh user\n",
        "bulan = input(\"masukkan nama bulan:\")\n",
        "tgl = int(input(\"masukkan tanggal dibulan tersebut:\"))\n",
        "\n",
        "# Proses menentukan nama musim\n",
        "if bulan == \"Januari\" or bulan ==\"Februari\":\n",
        "  musim = \"Winter\"\n",
        "elif bulan == \"Maret\":\n",
        "  if tgl < 20:\n",
        "    musim = \"Winter\"\n",
        "  else:\n",
        "    musim = \"Spring\"\n",
        "elif bulan ==\"April\" or bulan == \"Mei\":\n",
        "  musim = \"Spring\"\n",
        "elif bulan == \"Juni\":\n",
        "  if tgl < 21:\n",
        "    musim = \"Spring\"\n",
        "  else:\n",
        "    musim = \"Summer\"\n",
        "elif bulan ==\"Juli\" or bulan == \"Agustus\":\n",
        "  musim = \"Summer\"\n",
        "elif bulan == \"September\":\n",
        "   if tgl < 22:\n",
        "     musim = \"Summer\"\n",
        "   else:\n",
        "     musim = \"Fall\"\n",
        "elif bulan ==\"Oktober\" or bulan == \"November\":\n",
        "  musim = \"Fall\"\n",
        "elif bulan == \"Desember\":\n",
        "    if tgl < 21:\n",
        "      musim = \"Fall\"\n",
        "    else:\n",
        "      musim = \"Winter\"\n",
        "\n",
        "# Tampilkan hasil\n",
        "print(tgl, bulan, \"adalah dalam musim\", musim)"
      ],
      "metadata": {
        "colab": {
          "base_uri": "https://localhost:8080/"
        },
        "id": "8Eyt5e7ID4Od",
        "outputId": "d942350b-31cb-4df3-9da8-1c77d274d481"
      },
      "execution_count": 5,
      "outputs": [
        {
          "output_type": "stream",
          "name": "stdout",
          "text": [
            "masukkan nama bulan:Desember\n",
            "masukkan tanggal dibulan tersebut:21\n",
            "21 Desember adalah dalam musim Winter\n"
          ]
        }
      ]
    }
  ]
}