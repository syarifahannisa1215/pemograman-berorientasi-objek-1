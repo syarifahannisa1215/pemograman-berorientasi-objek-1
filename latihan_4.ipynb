{
  "nbformat": 4,
  "nbformat_minor": 0,
  "metadata": {
    "colab": {
      "provenance": [],
      "authorship_tag": "ABX9TyOslogfIctPLcsz+qDz8sH/",
      "include_colab_link": true
    },
    "kernelspec": {
      "name": "python3",
      "display_name": "Python 3"
    },
    "language_info": {
      "name": "python"
    }
  },
  "cells": [
    {
      "cell_type": "markdown",
      "metadata": {
        "id": "view-in-github",
        "colab_type": "text"
      },
      "source": [
        "<a href=\"https://colab.research.google.com/github/syarifahannisa1215/pemograman-berorientasi-objek-1/blob/main/latihan_4.ipynb\" target=\"_parent\"><img src=\"https://colab.research.google.com/assets/colab-badge.svg\" alt=\"Open In Colab\"/></a>"
      ]
    },
    {
      "cell_type": "code",
      "execution_count": 1,
      "metadata": {
        "colab": {
          "base_uri": "https://localhost:8080/"
        },
        "id": "iENLbFWGFv_R",
        "outputId": "9a280363-d5bb-417a-f851-6d95bbb1e1a6"
      },
      "outputs": [
        {
          "output_type": "stream",
          "name": "stdout",
          "text": [
            "JANGAN LUPA OLAHRAGA HARI INI!\n",
            "JANGAN LUPA OLAHRAGA HARI INI!\n"
          ]
        }
      ],
      "source": [
        "# Deklarasi fungsi salam_olahraga\n",
        "def salam_olahraga():\n",
        "    # Mencetak ouput pada fungsi salam_olahraga\n",
        "    print (\"JANGAN LUPA OLAHRAGA HARI INI!\")\n",
        "\n",
        "# Memanggil fungsi salam_olahraga\n",
        "salam_olahraga()  # memanggil fungsi salam_olahraga\n",
        "salam_olahraga()  # fungsi salam_olahraga dipanggil lagi"
      ]
    },
    {
      "cell_type": "code",
      "source": [
        "# Program Fungsi dengan parameter\n",
        "# Fungsi untuk menyapa seseorang sesuai nama yang dimasukkan sebagai parameter\n",
        "def kenalan(nama):\n",
        "     print(\"Salam, \" + nama + \". Apa kabar?\")\n",
        "\n",
        "# pemanggilan fungsi\n",
        "kenalan('Annisa')"
      ],
      "metadata": {
        "colab": {
          "base_uri": "https://localhost:8080/"
        },
        "id": "y5u94KegF0eU",
        "outputId": "bee67f6a-c391-4eec-f2b5-4eb8b33b9553"
      },
      "execution_count": 4,
      "outputs": [
        {
          "output_type": "stream",
          "name": "stdout",
          "text": [
            "Salam, Annisa. Apa kabar?\n"
          ]
        }
      ]
    },
    {
      "cell_type": "code",
      "source": [
        "# Menghitung dan menampilkan nilai median dari inputan tiga angka\n",
        "# Program ini dibuat dengan kata kunci def untuk membuat fungsi\n",
        "# menghitung nilai median dari 3 nilai yang diinput\n",
        "\n",
        "def median(a, b, c):\n",
        "# Proses perhitungan median cara pertama dengan perbandingan\n",
        "# Menggunakan kata kunci retun untuk mengembalikan nilai\n",
        "# untuk masing-masing nilai, yaitu a, b dan c\n",
        "  if a < b and b < c or a> b and b > c:\n",
        "    return b\n",
        "  if b < a and a < c or b > a and a > c:\n",
        "    return a\n",
        "  if c < a and b < c or c > a and b > c:\n",
        "    return c\n",
        "\n",
        "# Proses perhitungan median cara kedua\n",
        "def median2(a, b, c):\n",
        "    return a + b + c - min(a, b, c) - max(a, b, c)\n",
        "\n",
        "# Menampilkan nilai inputan 3 angka\n",
        "def utama():\n",
        "  x = float(input(\"Masukkan nilai pertama:\"))\n",
        "  y = float(input(\"Masukkan nilai kedua:\"))\n",
        "  z = float(input(\"Masukkan nilai ketiga:\"))\n",
        "\n",
        "  print(\"Nilai median dengan cara pertama:\", median(x, y, z))\n",
        "  print(\"Nilai median dengan cara kedua:\", median2(x, y, z))\n",
        "\n",
        "# Memanggil fungsi utama()\n",
        "utama()"
      ],
      "metadata": {
        "colab": {
          "base_uri": "https://localhost:8080/"
        },
        "id": "jLQ0Djm5F0sX",
        "outputId": "89be9038-961c-43ea-8a8f-d8cbc32d24da"
      },
      "execution_count": 5,
      "outputs": [
        {
          "output_type": "stream",
          "name": "stdout",
          "text": [
            "Masukkan nilai pertama:20\n",
            "Masukkan nilai kedua:10\n",
            "Masukkan nilai ketiga:15\n",
            "Nilai median dengan cara pertama: 15.0\n",
            "Nilai median dengan cara kedua: 15.0\n"
          ]
        }
      ]
    }
  ]
}